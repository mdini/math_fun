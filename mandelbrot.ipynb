{
 "cells": [
  {
   "cell_type": "code",
   "execution_count": 1,
   "id": "18c6f8dd-3518-45f9-bbf1-64292e7f7757",
   "metadata": {},
   "outputs": [],
   "source": [
    "import numpy as np"
   ]
  },
  {
   "cell_type": "code",
   "execution_count": 2,
   "id": "eba7212c-7dc5-4df0-8494-01af23938002",
   "metadata": {},
   "outputs": [],
   "source": [
    "def sequence(c):\n",
    "    z=0\n",
    "    for n in range(30):\n",
    "        z= z**2 +c \n",
    "        if z>1e5:\n",
    "            return 0\n",
    "    return 1"
   ]
  },
  {
   "cell_type": "code",
   "execution_count": 3,
   "id": "cf68ab1e-f304-44f6-ac84-4d6664d23fad",
   "metadata": {},
   "outputs": [],
   "source": [
    "reals=np.arange(-2.5,1,.001)\n",
    "imags=np.arange(-1.5,1.5,.001)"
   ]
  },
  {
   "cell_type": "code",
   "execution_count": 4,
   "id": "b81994d4-e55b-4754-ba90-fc9fcb738338",
   "metadata": {},
   "outputs": [
    {
     "name": "stderr",
     "output_type": "stream",
     "text": [
      "/tmp/ipykernel_29538/3780242695.py:4: RuntimeWarning: overflow encountered in scalar power\n",
      "  z= z**2 +c\n",
      "/tmp/ipykernel_29538/3780242695.py:4: RuntimeWarning: invalid value encountered in scalar power\n",
      "  z= z**2 +c\n"
     ]
    }
   ],
   "source": [
    "mandelbrot=[]\n",
    "for a in reals:\n",
    "    for b in imags:\n",
    "        c=a+1j*b\n",
    "        if sequence(c):\n",
    "            mandelbrot.append(c)"
   ]
  },
  {
   "cell_type": "code",
   "execution_count": 6,
   "id": "44042eef-0328-4fcf-8930-95bd8abcae51",
   "metadata": {},
   "outputs": [],
   "source": [
    "x= [ele.real for ele in mandelbrot]\n",
    "y= [ele.imag for ele in mandelbrot]"
   ]
  },
  {
   "cell_type": "code",
   "execution_count": 7,
   "id": "f43a4f66-9046-44eb-b4af-b9379d0b61d5",
   "metadata": {},
   "outputs": [],
   "source": [
    "import plotly.express as px"
   ]
  },
  {
   "cell_type": "code",
   "execution_count": 8,
   "id": "fe0d85ac-2f89-4a5c-8cb3-3fbea1723684",
   "metadata": {},
   "outputs": [],
   "source": [
    "fig= px.scatter(x=x, y=y, width=900, height=900)\n",
    "fig.update_traces(marker=dict(size=1,), selector=dict(mode='markers'))\n",
    "fig.write_image('mandelbrot.png')"
   ]
  },
  {
   "cell_type": "code",
   "execution_count": null,
   "id": "b3ad810b-2102-4293-b75e-6328151be222",
   "metadata": {},
   "outputs": [],
   "source": []
  }
 ],
 "metadata": {
  "kernelspec": {
   "display_name": "Python 3 (ipykernel)",
   "language": "python",
   "name": "python3"
  },
  "language_info": {
   "codemirror_mode": {
    "name": "ipython",
    "version": 3
   },
   "file_extension": ".py",
   "mimetype": "text/x-python",
   "name": "python",
   "nbconvert_exporter": "python",
   "pygments_lexer": "ipython3",
   "version": "3.12.3"
  }
 },
 "nbformat": 4,
 "nbformat_minor": 5
}
