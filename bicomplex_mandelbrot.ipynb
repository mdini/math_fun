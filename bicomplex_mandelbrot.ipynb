{
 "cells": [
  {
   "cell_type": "code",
   "execution_count": null,
   "id": "0a2f010a-87b2-4417-bb4f-0be02ab3599c",
   "metadata": {},
   "outputs": [],
   "source": [
    "import numpy as np"
   ]
  },
  {
   "cell_type": "code",
   "execution_count": null,
   "id": "849bb5d7-8624-47dc-bab8-7c9b4b348558",
   "metadata": {},
   "outputs": [],
   "source": [
    "def sequence(w,z):\n",
    "    (u,v)= (0,0)\n",
    "    for n in range(30):\n",
    "        u = u**2 - v**2 +w\n",
    "        v= 2*u*v + z \n",
    "        if abs(u**2 + z**2)>1e5:\n",
    "            return 0\n",
    "    return 1"
   ]
  },
  {
   "cell_type": "code",
   "execution_count": null,
   "id": "8ff5917b-1659-460f-a21d-8e9a06b703d0",
   "metadata": {},
   "outputs": [],
   "source": [
    "reals1= np.arange(-2.5,1,.05)\n",
    "reals2= np.arange(-2.5,1,.05)\n",
    "imags1= np.arange(-1.5,1.5,.05)\n",
    "imags2= np.arange(-1.5,1.5,.05)"
   ]
  },
  {
   "cell_type": "code",
   "execution_count": null,
   "id": "8800256a-6021-438e-b755-7c93a71ead8e",
   "metadata": {},
   "outputs": [],
   "source": [
    "from itertools import product \n",
    "grid=list(product(reals1,imags1,reals2,imags2))\n",
    "bcs= [(bc[0]+ 1j* bc[1], bc[2]+ 1j* bc[3] ) for bc in grid ]"
   ]
  },
  {
   "cell_type": "code",
   "execution_count": null,
   "id": "d6ac2c47-eea2-419e-ba3c-43731f31d53f",
   "metadata": {},
   "outputs": [],
   "source": [
    "mandelbrot=[]\n",
    "for (w,z) in bcs:\n",
    "    if sequence(w,z):\n",
    "        mandelbrot.append((w,z))"
   ]
  },
  {
   "cell_type": "code",
   "execution_count": null,
   "id": "d2985ab1-c774-483b-b45c-313f54bb85ee",
   "metadata": {},
   "outputs": [],
   "source": [
    "x=[bc[0].real for bc in mandelbrot]\n",
    "y=[bc[0].imag for bc in mandelbrot]\n",
    "w=[bc[1].real for bc in mandelbrot]\n",
    "z=[bc[1].imag for bc in mandelbrot]"
   ]
  },
  {
   "cell_type": "code",
   "execution_count": null,
   "id": "1182a58a-5856-4917-9044-e1d56cad1260",
   "metadata": {},
   "outputs": [],
   "source": [
    "import matplotlib.pyplot as plt\n",
    "fig,ax=plt.subplots(2,3,figsize=(10,6))\n",
    "ax[0,0].scatter(x,y,s=1)\n",
    "ax[0,0].grid()\n",
    "ax[0,1].scatter(x,z,s=1)\n",
    "ax[0,1].grid()\n",
    "ax[0,2].scatter(x,w,s=1)\n",
    "ax[0,2].grid()\n",
    "ax[1,0].scatter(w,z,s=1)\n",
    "ax[1,0].grid()\n",
    "ax[1,1].scatter(w,y,s=1)\n",
    "ax[1,1].grid()\n",
    "ax[1,2].scatter(y,z,s=1)\n",
    "ax[1,2].grid()"
   ]
  },
  {
   "cell_type": "code",
   "execution_count": null,
   "id": "1d546f6a-2023-46f6-93ab-3ee956895a57",
   "metadata": {},
   "outputs": [],
   "source": [
    "import plotly.express as px \n",
    "fig= px.scatter_3d(x=x, y=w, z=y, color=z, color_continuous_scale='Jet', height=600, width=600)\n",
    "fig.update_traces(marker=dict(size=1))\n",
    "fig.update_layout(coloraxis_showscale=False)\n",
    "fig"
   ]
  },
  {
   "cell_type": "code",
   "execution_count": null,
   "id": "c4e3576a-efab-4ffc-ac63-c084e505165b",
   "metadata": {},
   "outputs": [],
   "source": []
  }
 ],
 "metadata": {
  "kernelspec": {
   "display_name": "Python 3 (ipykernel)",
   "language": "python",
   "name": "python3"
  },
  "language_info": {
   "codemirror_mode": {
    "name": "ipython",
    "version": 3
   },
   "file_extension": ".py",
   "mimetype": "text/x-python",
   "name": "python",
   "nbconvert_exporter": "python",
   "pygments_lexer": "ipython3",
   "version": "3.12.3"
  }
 },
 "nbformat": 4,
 "nbformat_minor": 5
}
