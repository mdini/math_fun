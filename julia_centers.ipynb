{
 "cells": [
  {
   "cell_type": "code",
   "execution_count": null,
   "id": "72425bf1-ac7b-4df8-87ae-507ea32d47ac",
   "metadata": {},
   "outputs": [],
   "source": [
    "import numpy as np"
   ]
  },
  {
   "cell_type": "code",
   "execution_count": null,
   "id": "6fe32270-66aa-4560-afc1-c33ffaa32367",
   "metadata": {},
   "outputs": [],
   "source": [
    "def iterations(z,c): # c variable \n",
    "    i=0 \n",
    "    while (abs(z)<1e5) & (i<100):\n",
    "        z=z**2 +c\n",
    "        i +=1\n",
    "    if i==100:\n",
    "        return 0\n",
    "    return i"
   ]
  },
  {
   "cell_type": "code",
   "execution_count": null,
   "id": "cb1ffaaa-8dd8-414b-8326-248cb9b61cfd",
   "metadata": {},
   "outputs": [],
   "source": [
    "reals=np.arange(-2,2,.005)\n",
    "imags=np.arange(-2,2,.005)"
   ]
  },
  {
   "cell_type": "code",
   "execution_count": null,
   "id": "355d213a-54a1-4be4-882e-29f3839503f8",
   "metadata": {},
   "outputs": [],
   "source": [
    "import plotly.express as px"
   ]
  },
  {
   "cell_type": "code",
   "execution_count": null,
   "id": "491e9208-badb-46f6-87e4-f8cf644b2886",
   "metadata": {},
   "outputs": [],
   "source": [
    "# we will take c values from wikipedia later\n",
    "c=   -.4 + .6j"
   ]
  },
  {
   "cell_type": "code",
   "execution_count": null,
   "id": "d9d6e473-ce6d-4dcc-8223-6e9b3e6e7cf2",
   "metadata": {},
   "outputs": [],
   "source": [
    "julia=[[0 for x in reals] for y in imags]\n",
    "for na,a in enumerate(reals):\n",
    "    for nb,b in enumerate(imags):\n",
    "        z=a+1j*b\n",
    "        julia[nb][na]=iterations(z,c)\n",
    "\n",
    "\n",
    "fig=px.imshow(julia)\n",
    "fig.update(layout_coloraxis_showscale=False)\n",
    "fig.update_layout(coloraxis=dict(colorscale='Edge'))\n",
    "fig.show()"
   ]
  },
  {
   "cell_type": "code",
   "execution_count": null,
   "id": "3733e298-97e6-41e2-aff3-959d1b7526ae",
   "metadata": {},
   "outputs": [],
   "source": []
  }
 ],
 "metadata": {
  "kernelspec": {
   "display_name": "Python 3 (ipykernel)",
   "language": "python",
   "name": "python3"
  },
  "language_info": {
   "codemirror_mode": {
    "name": "ipython",
    "version": 3
   },
   "file_extension": ".py",
   "mimetype": "text/x-python",
   "name": "python",
   "nbconvert_exporter": "python",
   "pygments_lexer": "ipython3",
   "version": "3.12.3"
  }
 },
 "nbformat": 4,
 "nbformat_minor": 5
}
