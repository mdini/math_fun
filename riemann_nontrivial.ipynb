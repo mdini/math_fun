{
 "cells": [
  {
   "cell_type": "code",
   "execution_count": 1,
   "id": "69310f88-b822-459d-bcca-eb8213bdfeee",
   "metadata": {},
   "outputs": [],
   "source": [
    "# copy code from previous video \n",
    "import numpy as np\n",
    "import math\n",
    "inf=int(1e3) #small value to avoid overflow error\n",
    "def sum1(n,z):\n",
    "    f= lambda k: (-1)**k * math.comb(n,k) * (k+1)**(-z)\n",
    "    vf= np.vectorize(f)\n",
    "    arr=vf(range(0,n+1))\n",
    "    s=arr.sum()\n",
    "    return s\n",
    "\n",
    "def sum2(z):\n",
    "    f= lambda n: 1/(2**(n+1)) * sum1(n,z)\n",
    "    vf=np.vectorize(f)\n",
    "    arr=vf(range(0,inf))\n",
    "    s=arr.sum()\n",
    "    return s\n",
    "\n",
    "zeta = lambda z: 1/(1-2**(1-z)) * sum2(z) if z!=1 else inf"
   ]
  },
  {
   "cell_type": "code",
   "execution_count": 2,
   "id": "5848505b-73d5-44a2-9879-8d1688a59ad4",
   "metadata": {},
   "outputs": [],
   "source": [
    "vzeta= np.vectorize(zeta)"
   ]
  },
  {
   "cell_type": "code",
   "execution_count": 3,
   "id": "0fcad5e9-e805-41c5-a2d4-b16deadc51f8",
   "metadata": {},
   "outputs": [],
   "source": [
    "imags=np.arange(0,50,.1)\n",
    "zs=np.array([.5+b*1j for b in imags])"
   ]
  },
  {
   "cell_type": "code",
   "execution_count": 4,
   "id": "e466b568-d164-42fb-a57c-b5e73324c5fc",
   "metadata": {},
   "outputs": [],
   "source": [
    "riemann=vzeta(zs)"
   ]
  },
  {
   "cell_type": "code",
   "execution_count": null,
   "id": "4e7635d4-0d69-4a72-acd5-8751e095c1da",
   "metadata": {},
   "outputs": [],
   "source": [
    "import matplotlib.pyplot as plt\n",
    "plt.figure(figsize=(14,5))"
   ]
  }
 ],
 "metadata": {
  "kernelspec": {
   "display_name": "Python 3 (ipykernel)",
   "language": "python",
   "name": "python3"
  },
  "language_info": {
   "codemirror_mode": {
    "name": "ipython",
    "version": 3
   },
   "file_extension": ".py",
   "mimetype": "text/x-python",
   "name": "python",
   "nbconvert_exporter": "python",
   "pygments_lexer": "ipython3",
   "version": "3.12.3"
  }
 },
 "nbformat": 4,
 "nbformat_minor": 5
}
