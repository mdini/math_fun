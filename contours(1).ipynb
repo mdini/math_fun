{
 "cells": [
  {
   "cell_type": "code",
   "execution_count": null,
   "id": "92dcf303-d32d-464e-9e0f-8a4bc7433a0d",
   "metadata": {},
   "outputs": [],
   "source": [
    "import numpy as np \n",
    "import cv2\n",
    "import skimage\n",
    "import matplotlib.pyplot as plt"
   ]
  },
  {
   "cell_type": "code",
   "execution_count": null,
   "id": "43272046-71cd-437a-95c5-8d60881e85b5",
   "metadata": {},
   "outputs": [],
   "source": [
    "im= plt.imread('room.jpeg')\n",
    "plt.imshow(im)"
   ]
  },
  {
   "cell_type": "code",
   "execution_count": null,
   "id": "e18ecca0-98c9-4a3e-bafe-5db5037291f2",
   "metadata": {},
   "outputs": [],
   "source": [
    "gray= cv2.cvtColor(im,cv2.COLOR_BGR2GRAY)\n",
    "plt.imshow(gray)"
   ]
  },
  {
   "cell_type": "code",
   "execution_count": null,
   "id": "1ae4b877-c139-40bc-b8bf-5a381265b1ae",
   "metadata": {},
   "outputs": [],
   "source": [
    "contours= skimage.measure.find_contours(\n",
    "    gray,level=195)"
   ]
  },
  {
   "cell_type": "code",
   "execution_count": null,
   "id": "5cc001e0-0dc1-4036-b8cb-adcc29b9103b",
   "metadata": {},
   "outputs": [],
   "source": [
    "plt.imshow(gray)\n",
    "for contour in contours:\n",
    "    plt.plot(contour[:,1], contour[:,0], \n",
    "           color='red')"
   ]
  },
  {
   "cell_type": "code",
   "execution_count": null,
   "id": "76f1356b-78aa-43ac-9a65-7a7ea05219b4",
   "metadata": {},
   "outputs": [],
   "source": []
  },
  {
   "cell_type": "code",
   "execution_count": null,
   "id": "8306a5ef-e84e-4a0e-95f9-29066dfb8dfb",
   "metadata": {},
   "outputs": [],
   "source": []
  },
  {
   "cell_type": "code",
   "execution_count": null,
   "id": "d44a6a6b-ad03-4339-8d19-5263bf3c0187",
   "metadata": {},
   "outputs": [],
   "source": []
  },
  {
   "cell_type": "code",
   "execution_count": null,
   "id": "07e904d1-67ea-4bb9-9896-82b25d8154f7",
   "metadata": {},
   "outputs": [],
   "source": []
  },
  {
   "cell_type": "code",
   "execution_count": null,
   "id": "deba4052-d95f-4b07-87c5-6f9f32d03f09",
   "metadata": {},
   "outputs": [],
   "source": []
  }
 ],
 "metadata": {
  "kernelspec": {
   "display_name": "Python 3 (ipykernel)",
   "language": "python",
   "name": "python3"
  },
  "language_info": {
   "codemirror_mode": {
    "name": "ipython",
    "version": 3
   },
   "file_extension": ".py",
   "mimetype": "text/x-python",
   "name": "python",
   "nbconvert_exporter": "python",
   "pygments_lexer": "ipython3",
   "version": "3.12.7"
  }
 },
 "nbformat": 4,
 "nbformat_minor": 5
}
