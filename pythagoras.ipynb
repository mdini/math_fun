{
 "cells": [
  {
   "cell_type": "code",
   "execution_count": null,
   "id": "36de2e16-0993-4eed-8c2c-6922b796f317",
   "metadata": {},
   "outputs": [],
   "source": [
    "import numpy as np\n",
    "import itertools"
   ]
  },
  {
   "cell_type": "code",
   "execution_count": null,
   "id": "32e4f13f-a433-4912-84db-0e73c1052fd3",
   "metadata": {},
   "outputs": [],
   "source": [
    "def pythagoras(limit=10):\n",
    "    rng=range(1,limit)\n",
    "    xs,ys,zs=[],[],[]\n",
    "    for x,y,z in itertools.product(rng,rng,rng):\n",
    "        if x**2+y**2 == z**2:\n",
    "            xs.append(x)\n",
    "            ys.append(y)\n",
    "            zs.append(z)\n",
    "    return xs,ys,zs"
   ]
  },
  {
   "cell_type": "code",
   "execution_count": null,
   "id": "3b948e6d-52df-4243-9489-81df8bed821e",
   "metadata": {},
   "outputs": [],
   "source": [
    "xs,ys,zs= pythagoras(limit=1000)"
   ]
  },
  {
   "cell_type": "code",
   "execution_count": null,
   "id": "883d9911-bbf3-4ad9-a9b2-ee157eed2568",
   "metadata": {},
   "outputs": [],
   "source": [
    "import matplotlib.pyplot as plt\n",
    "plt.scatter(ys,xs,s=3)\n",
    "plt.grid()"
   ]
  },
  {
   "cell_type": "code",
   "execution_count": null,
   "id": "80cfe458-7ee9-4e49-bc87-c5e382ea62e8",
   "metadata": {},
   "outputs": [],
   "source": [
    "import plotly.express as px\n",
    "fig=px.scatter_3d(x=xs,y=ys,z=zs,width=600, height=600)\n",
    "fig.update_traces(marker_size=1)"
   ]
  },
  {
   "cell_type": "code",
   "execution_count": null,
   "id": "e77f9091-777a-439f-8972-c58114e26acc",
   "metadata": {},
   "outputs": [],
   "source": []
  }
 ],
 "metadata": {
  "kernelspec": {
   "display_name": "Python 3 (ipykernel)",
   "language": "python",
   "name": "python3"
  },
  "language_info": {
   "codemirror_mode": {
    "name": "ipython",
    "version": 3
   },
   "file_extension": ".py",
   "mimetype": "text/x-python",
   "name": "python",
   "nbconvert_exporter": "python",
   "pygments_lexer": "ipython3",
   "version": "3.12.3"
  }
 },
 "nbformat": 4,
 "nbformat_minor": 5
}
