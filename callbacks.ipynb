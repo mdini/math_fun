{
 "cells": [
  {
   "cell_type": "code",
   "execution_count": 1,
   "id": "593dea1d-6eb8-48a6-bfc8-ee4378613ca5",
   "metadata": {},
   "outputs": [],
   "source": [
    "#copy nn code from previous video "
   ]
  },
  {
   "cell_type": "code",
   "execution_count": null,
   "id": "e788601b-7612-48b9-beca-469afc3bb0b1",
   "metadata": {
    "scrolled": true
   },
   "outputs": [],
   "source": [
    "import tensorflow as tf \n",
    "import keras \n",
    "from keras import layers\n",
    "from sklearn import datasets"
   ]
  },
  {
   "cell_type": "code",
   "execution_count": 3,
   "id": "53c267a6-a82d-4fa4-aa76-145e954d284d",
   "metadata": {},
   "outputs": [],
   "source": [
    "diabetes= datasets.load_diabetes()\n",
    "x= diabetes['data']\n",
    "y= diabetes['target']"
   ]
  },
  {
   "cell_type": "code",
   "execution_count": 12,
   "id": "c9ac0da5-756c-4101-9a90-144f1031d24c",
   "metadata": {},
   "outputs": [],
   "source": [
    "model= keras.Sequential([\n",
    "    layers.Input((10,)),\n",
    "    layers.Dense(16, activation='relu'),\n",
    "    layers.Dense(32, activation='relu'),\n",
    "    layers.Dense(64, activation='relu'),\n",
    "    layers.Dense(32, activation='relu'),\n",
    "    layers.Dense(16, activation='relu'),\n",
    "    layers.Dense(1),\n",
    "])"
   ]
  },
  {
   "cell_type": "code",
   "execution_count": 13,
   "id": "5e0389bb-7257-49d0-a4fc-490474e84d2c",
   "metadata": {},
   "outputs": [],
   "source": [
    "ada=keras.optimizers.Adam(learning_rate=.01)\n",
    "model.compile(optimizer=ada, loss='mae', metrics=['mape'])"
   ]
  },
  {
   "cell_type": "code",
   "execution_count": 6,
   "id": "811d98b4-ea36-4009-9611-f0d8c33d32a7",
   "metadata": {},
   "outputs": [],
   "source": [
    "#1st callback \n",
    "earlytop= keras.callbacks.EarlyStopping(monitor= 'val_loss',\n",
    "                                       patience= 3, verbose=1)"
   ]
  },
  {
   "cell_type": "code",
   "execution_count": 10,
   "id": "78101691-b8ed-4ec2-bd5f-2de0c1a5d8a1",
   "metadata": {},
   "outputs": [],
   "source": [
    "#2nd callback \n",
    "reduceLR= keras.callbacks.ReduceLROnPlateau(monitor= 'val_loss', factor=.1, \n",
    "                                       patience= 3, verbose=1)"
   ]
  },
  {
   "cell_type": "code",
   "execution_count": 15,
   "id": "a139c0b2-35f9-4ed4-90c4-157087ce80d3",
   "metadata": {},
   "outputs": [],
   "source": [
    "# 3rd callabck \n",
    "checkpt= keras.callbacks.ModelCheckpoint(filepath='ckpt/model.keras', monitor= 'val_loss',\n",
    "                                         save_best_only=True, verbose=1)"
   ]
  },
  {
   "cell_type": "code",
   "execution_count": null,
   "id": "249f5efc-6d41-430b-865c-7c7ad4bb6a26",
   "metadata": {},
   "outputs": [],
   "source": [
    "history= model.fit(x,y, epochs=1000, validation_split=.1,\n",
    "         callbacks=[checkpt])"
   ]
  },
  {
   "cell_type": "code",
   "execution_count": 17,
   "id": "43f3e3fb-f3b1-4ef5-bf52-c88816121537",
   "metadata": {},
   "outputs": [],
   "source": [
    "model.load_weights('ckpt/model.keras')"
   ]
  },
  {
   "cell_type": "code",
   "execution_count": null,
   "id": "67cee5b0-7676-4aef-bd32-475bd76caa1f",
   "metadata": {},
   "outputs": [],
   "source": []
  }
 ],
 "metadata": {
  "kernelspec": {
   "display_name": "Python 3 (ipykernel)",
   "language": "python",
   "name": "python3"
  },
  "language_info": {
   "codemirror_mode": {
    "name": "ipython",
    "version": 3
   },
   "file_extension": ".py",
   "mimetype": "text/x-python",
   "name": "python",
   "nbconvert_exporter": "python",
   "pygments_lexer": "ipython3",
   "version": "3.12.3"
  }
 },
 "nbformat": 4,
 "nbformat_minor": 5
}
