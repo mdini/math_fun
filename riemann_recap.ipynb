{
 "cells": [
  {
   "cell_type": "markdown",
   "id": "bd57914d-61bb-4cf6-bf56-af8e1fe99a25",
   "metadata": {},
   "source": [
    "# Definition for all complex z != 1 (computationally costly )"
   ]
  },
  {
   "cell_type": "markdown",
   "id": "013a98bf-1be6-4f3e-b277-77888188894d",
   "metadata": {},
   "source": [
    "# $\\zeta(z)= \\frac{1}{1-2^{1-z}} \\sum_{n=0}^{\\infty} \\frac{1}{2^{n+1}} \\sum_{k=0}^{n} (-1)^k \\binom{n}{k} (k+1)^{-z} $"
   ]
  },
  {
   "cell_type": "markdown",
   "id": "1a5f4e73-6a1c-4dec-80a7-16ab8d7838a9",
   "metadata": {},
   "source": [
    "# ------------------------------------------------------------------------------------------------"
   ]
  },
  {
   "cell_type": "markdown",
   "id": "92059287-4c1d-45be-a92a-9e8511e769f7",
   "metadata": {},
   "source": [
    "# Piecewise definition (better perf )"
   ]
  },
  {
   "cell_type": "markdown",
   "id": "ccb52594-97ad-4c37-be56-99118fe5aae3",
   "metadata": {},
   "source": [
    "# $ \\zeta(z)=\\sum_{n=1}^{\\infty} n^{-z}~~ if ~~ Re(z)>1 $"
   ]
  },
  {
   "cell_type": "markdown",
   "id": "7aa58736-ff86-4a7e-b9a0-909c0592fd1c",
   "metadata": {},
   "source": [
    "# $\\zeta(z) = \\frac{1}{1-2^{1-z}} \\sum_{n=1}^{\\infty} \\frac{(-1)^{n-1}}{n^z}~~ if~~ 1> Re(z)>0 $"
   ]
  },
  {
   "cell_type": "markdown",
   "id": "389cb51c-ee9e-45f2-a5eb-6846dad46924",
   "metadata": {},
   "source": [
    "# $\\zeta(z)= 2^z \\pi^{z-1} \\sin(\\frac{\\pi z}{2}) \\tau(1-z) \\zeta(1-z) ~~ if ~~ Re(z)<0 $\n",
    "# $ where ~~ \\tau(z)= \\int_0^{\\infty} x^{z-1} e^{-z} dx  $"
   ]
  },
  {
   "cell_type": "code",
   "execution_count": null,
   "id": "41318290-58cd-4e95-8939-c5c14a4ba99d",
   "metadata": {},
   "outputs": [],
   "source": []
  }
 ],
 "metadata": {
  "kernelspec": {
   "display_name": "Python 3 (ipykernel)",
   "language": "python",
   "name": "python3"
  },
  "language_info": {
   "codemirror_mode": {
    "name": "ipython",
    "version": 3
   },
   "file_extension": ".py",
   "mimetype": "text/x-python",
   "name": "python",
   "nbconvert_exporter": "python",
   "pygments_lexer": "ipython3",
   "version": "3.12.3"
  }
 },
 "nbformat": 4,
 "nbformat_minor": 5
}
