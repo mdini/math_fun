{
 "cells": [
  {
   "cell_type": "code",
   "execution_count": 1,
   "id": "4c3f5d90-828c-4612-b09c-910086a0b07a",
   "metadata": {},
   "outputs": [],
   "source": [
    "import numpy as np"
   ]
  },
  {
   "cell_type": "code",
   "execution_count": 2,
   "id": "c8ba4fcf-ed9b-4cf6-90e8-abb12b7edb09",
   "metadata": {},
   "outputs": [],
   "source": [
    "#p: power\n",
    "def sequence(c,p):\n",
    "    z=0\n",
    "    for n in range(30):\n",
    "        z= z**p +c # p power variable\n",
    "        if abs(z)>10**(p*3): # cutoff depends on power\n",
    "            return 0\n",
    "    return 1"
   ]
  },
  {
   "cell_type": "code",
   "execution_count": 3,
   "id": "521ccdfe-9117-4063-b8db-998c2e94b106",
   "metadata": {},
   "outputs": [],
   "source": [
    "reals=np.arange(-2,2,.002)\n",
    "imags=np.arange(-2,2,.002)"
   ]
  },
  {
   "cell_type": "code",
   "execution_count": 4,
   "id": "e77fdd6e-3e0d-4b25-941e-3c772b5b76a3",
   "metadata": {},
   "outputs": [],
   "source": [
    "import os"
   ]
  },
  {
   "cell_type": "code",
   "execution_count": 6,
   "id": "d5c6526e-cc57-4a48-9971-e7e003cc5449",
   "metadata": {},
   "outputs": [],
   "source": [
    "os.makedirs('powers', exist_ok=True)"
   ]
  },
  {
   "cell_type": "code",
   "execution_count": 7,
   "id": "2fc745d2-1a47-4784-91eb-324708f49528",
   "metadata": {},
   "outputs": [],
   "source": [
    "import plotly.express as px"
   ]
  },
  {
   "cell_type": "code",
   "execution_count": 9,
   "id": "b05e949e-b8fb-4667-98d1-9ab8efee182e",
   "metadata": {},
   "outputs": [
    {
     "name": "stdout",
     "output_type": "stream",
     "text": [
      "2\n",
      "3\n",
      "4\n",
      "5\n",
      "6\n",
      "7\n",
      "8\n",
      "9\n"
     ]
    }
   ],
   "source": [
    "for p in range(2,10):\n",
    "    print(p)\n",
    "    mandelbrot=[]\n",
    "    for a in reals:\n",
    "        for b in imags:\n",
    "            c= a+1j*b\n",
    "            if sequence(c,p):\n",
    "                mandelbrot.append(c)\n",
    "    x=[ele.real for ele in mandelbrot]\n",
    "    y=[ele.imag for ele in mandelbrot]\n",
    "\n",
    "    fig= px.scatter(x=x, y=y, width=900, height=900)\n",
    "    fig.update_traces(marker=dict(size=1),selector=dict(mode='markers'))\n",
    "    fig.update_layout(xaxis_range=[-2,2],yaxis_range=[-2,2])\n",
    "    fig.write_image('powers/{}.png'.format(p))"
   ]
  },
  {
   "cell_type": "code",
   "execution_count": null,
   "id": "ca3a722c-ea59-4c85-afca-b0bd5d93da26",
   "metadata": {},
   "outputs": [],
   "source": []
  }
 ],
 "metadata": {
  "kernelspec": {
   "display_name": "Python 3 (ipykernel)",
   "language": "python",
   "name": "python3"
  },
  "language_info": {
   "codemirror_mode": {
    "name": "ipython",
    "version": 3
   },
   "file_extension": ".py",
   "mimetype": "text/x-python",
   "name": "python",
   "nbconvert_exporter": "python",
   "pygments_lexer": "ipython3",
   "version": "3.12.3"
  }
 },
 "nbformat": 4,
 "nbformat_minor": 5
}
